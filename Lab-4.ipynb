{
 "cells": [
  {
   "cell_type": "markdown",
   "source": [
    "# Lab 4 - Regression Analysis"
   ],
   "metadata": {}
  },
  {
   "cell_type": "markdown",
   "source": [
    "## Exercise 1 (4 Marks)\n",
    "What linear regression equation best predicts statistics performance for the students assuming we have following data? <br>\n",
    "If a student made an 80 on the test, what grade would we expect him to make in statistics? <br>\n",
    "How well does the regression equation fit the data?\n",
    "\n",
    "|Student |test_score |statistics_grade|\n",
    "|--------|-----------|----------------|\n",
    "|1|95|85|\n",
    "|2|85|95|\n",
    "|3|80|70|\n",
    "|4|70|65|\n",
    "|5|60|70|\n",
    "\n",
    "**Note**<br>\n",
    "• The above dataset is available in student_score.csv file <br>\n",
    "\n",
    "**HINT**<br>\n",
    "• Use panda library to load the csv file<br>\n",
    "• Use stats in scipy library for the regression analysis"
   ],
   "metadata": {}
  },
  {
   "cell_type": "code",
   "execution_count": 1,
   "source": [
    "#Import\n",
    "import pandas as pd\n",
    "import numpy as np\n",
    "import matplotlib.pyplot as plt\n",
    "import seaborn as sb\n",
    "from scipy import stats\n",
    "\n",
    "#libraries for regression analysis\n",
    "from sklearn import datasets\n",
    "from sklearn.linear_model import LinearRegression\n",
    "from sklearn.metrics import mean_squared_error, r2_score\n",
    "from sklearn.model_selection import train_test_split, cross_val_score\n",
    "from sklearn import linear_model\n",
    "\n",
    "#Xi = scores on test\n",
    "#Yi = statistic grades\n",
    "\n",
    "df = pd.read_csv('Dataset student_score.csv')\n",
    "df.columns = ['Student','test_score','statistics_grade']\n",
    "df.head()\n"
   ],
   "outputs": [
    {
     "output_type": "execute_result",
     "data": {
      "text/html": [
       "<div>\n",
       "<style scoped>\n",
       "    .dataframe tbody tr th:only-of-type {\n",
       "        vertical-align: middle;\n",
       "    }\n",
       "\n",
       "    .dataframe tbody tr th {\n",
       "        vertical-align: top;\n",
       "    }\n",
       "\n",
       "    .dataframe thead th {\n",
       "        text-align: right;\n",
       "    }\n",
       "</style>\n",
       "<table border=\"1\" class=\"dataframe\">\n",
       "  <thead>\n",
       "    <tr style=\"text-align: right;\">\n",
       "      <th></th>\n",
       "      <th>Student</th>\n",
       "      <th>test_score</th>\n",
       "      <th>statistics_grade</th>\n",
       "    </tr>\n",
       "  </thead>\n",
       "  <tbody>\n",
       "    <tr>\n",
       "      <th>0</th>\n",
       "      <td>1</td>\n",
       "      <td>95</td>\n",
       "      <td>85</td>\n",
       "    </tr>\n",
       "    <tr>\n",
       "      <th>1</th>\n",
       "      <td>2</td>\n",
       "      <td>85</td>\n",
       "      <td>95</td>\n",
       "    </tr>\n",
       "    <tr>\n",
       "      <th>2</th>\n",
       "      <td>3</td>\n",
       "      <td>80</td>\n",
       "      <td>70</td>\n",
       "    </tr>\n",
       "    <tr>\n",
       "      <th>3</th>\n",
       "      <td>4</td>\n",
       "      <td>70</td>\n",
       "      <td>65</td>\n",
       "    </tr>\n",
       "    <tr>\n",
       "      <th>4</th>\n",
       "      <td>5</td>\n",
       "      <td>60</td>\n",
       "      <td>70</td>\n",
       "    </tr>\n",
       "  </tbody>\n",
       "</table>\n",
       "</div>"
      ],
      "text/plain": [
       "   Student  test_score  statistics_grade\n",
       "0        1          95                85\n",
       "1        2          85                95\n",
       "2        3          80                70\n",
       "3        4          70                65\n",
       "4        5          60                70"
      ]
     },
     "metadata": {},
     "execution_count": 1
    }
   ],
   "metadata": {}
  },
  {
   "cell_type": "code",
   "execution_count": 2,
   "source": [
    "x = df['test_score']\n",
    "y = df['statistics_grade']\n",
    "\n",
    "slope, intercept,r_value,p_value, std_err = stats.linregress(x,y)\n",
    "print('---------------------------------')\n",
    "print(\"slope:\",slope,'\\nintercept:', intercept,\"\\nr_value:\",r_value,\"\\np_value:\",p_value,\"\\nstd_err:\",std_err)\n",
    "print('---------------------------------')\n",
    "#Linear regression equation: y = mx + b\n",
    "# y = 0.64(80) + 26.78\n",
    "student_grade = slope*(80) + intercept\n",
    "print(\"If a student got 80 on the test, we expect him to get \",round(student_grade,2), \" in statistics\")\n"
   ],
   "outputs": [
    {
     "output_type": "stream",
     "name": "stdout",
     "text": [
      "---------------------------------\n",
      "slope: 0.6438356164383562 \n",
      "intercept: 26.78082191780822 \n",
      "r_value: 0.6930525298193004 \n",
      "p_value: 0.19446749009400915 \n",
      "std_err: 0.38664772840212874\n",
      "---------------------------------\n",
      "If a student got 80 on the test, we expect him to get  78.29  in statistics\n"
     ]
    }
   ],
   "metadata": {}
  },
  {
   "cell_type": "markdown",
   "source": [
    "<hr>"
   ],
   "metadata": {}
  },
  {
   "cell_type": "markdown",
   "source": [
    "## Exercise 2 (1 Mark)\n",
    "Plot linear regression line for the data given in Exercise-1 using matplotlib library"
   ],
   "metadata": {}
  },
  {
   "cell_type": "code",
   "execution_count": 3,
   "source": [
    "#Xi = scores on test\n",
    "#Yi = statistic grades\n",
    "\n",
    "x = np.array(df['test_score'])\n",
    "x =x.reshape((-1,1)) #this array is required to be 2D (1 col with many rows)\n",
    "y = np.array(df['statistics_grade'])\n",
    "y = y.reshape((-1,1))\n",
    "\n",
    "# model = LinearRegression()\n",
    "# model.fit(x,y)\n",
    "model = LinearRegression().fit(x,y)\n",
    "y_pred = model.predict(x)\n",
    "\n",
    "plt.scatter(x,y)\n",
    "plt.plot(x,y_pred,'--k',color='green',)\n",
    "plt.title('Test vs Statistics')\n",
    "plt.xlabel('test score')\n",
    "plt.ylabel('statistics grade')\n",
    "plt.legend(['fitted line','data points'],loc =\"upper left\")\n",
    "plt.show()\n",
    "\n",
    "# theres positive correlation "
   ],
   "outputs": [
    {
     "output_type": "display_data",
     "data": {
      "image/png": "[encoded data removed]",
      "text/plain": [
       "<Figure size 432x288 with 1 Axes>"
      ]
     },
     "metadata": {
      "needs_background": "light"
     }
    }
   ],
   "metadata": {}
  },
  {
   "cell_type": "markdown",
   "source": [
    "<hr>"
   ],
   "metadata": {}
  },
  {
   "cell_type": "markdown",
   "source": [
    "## Exercise 3 (1 Mark)\n",
    "Measure the R-squared value, goodness-of-fit for Exercise-1 linear regression model\n"
   ],
   "metadata": {}
  },
  {
   "cell_type": "code",
   "execution_count": 4,
   "source": [
    "r_sq = model.score(x,y)\n",
    "print('Coefficient of determination (R^2):',r_sq)\n",
    "# print('intercept:',model.intercept_)\n",
    "# print('slope',model.coef_)"
   ],
   "outputs": [
    {
     "output_type": "stream",
     "name": "stdout",
     "text": [
      "Coefficient of determination (R^2): 0.4803218090889325\n"
     ]
    }
   ],
   "metadata": {}
  },
  {
   "cell_type": "markdown",
   "source": [
    "<hr>"
   ],
   "metadata": {}
  },
  {
   "cell_type": "markdown",
   "source": [
    "## Exercise 4 (4 Mark)\n",
    "Consider the following data:\n",
    "\n",
    "`Y: [16,4,1,9,1,25,16,4,0,9,25]` <br>\n",
    "`X: [-4,-2,1,3,-1,-5,4,2,0,-3,5]`\n",
    "\n",
    "\n",
    "3.1) Visualize the scatter plot for the above data using matplotlib library <br>\n",
    "3.2) What type of regression model is it?"
   ],
   "metadata": {}
  },
  {
   "cell_type": "code",
   "execution_count": 5,
   "source": [
    "y = [16,4,1,9,1,25,16,4,0,9,25]\n",
    "x = [-4,-2,1,3,-1,-5,4,2,0,-3,5]\n",
    "\n",
    "plt.scatter(x,y)\n",
    "plt.show()\n",
    "\n",
    "print(\"This is a Quadratic regression model\")"
   ],
   "outputs": [
    {
     "output_type": "display_data",
     "data": {
      "image/png": "[encoded data removed]",
      "text/plain": [
       "<Figure size 432x288 with 1 Axes>"
      ]
     },
     "metadata": {
      "needs_background": "light"
     }
    },
    {
     "output_type": "stream",
     "name": "stdout",
     "text": [
      "This is a polynomial regression model\n"
     ]
    }
   ],
   "metadata": {}
  },
  {
   "cell_type": "markdown",
   "source": [
    "<hr>"
   ],
   "metadata": {}
  },
  {
   "cell_type": "markdown",
   "source": [
    "## Excercise-5 (9 Mark)\n",
    "\n",
    "## 1.\n",
    "In this part you will use Python to analyze the heart disease data set (the link and explanation is included here) by training and building a model with regression analysis.<br><br>\n",
    "Test your model and discuss the result of your test with performance metrics. Make sure you `separate` training set and testing data properly. <br><br>\n",
    "Then analyse the input data and explain which of them have `more effects on output` and modify your models by `eliminating non significant variables`. (5 marks) \n",
    "\n",
    "<br>\n",
    "<b>Heart Disease Dataset:</b> Here, is the link for heart disease dataset of patients. <a>http://archive.ics.uci.edu/ml/datasets/Heart+Disease</a> \n",
    "<br>\n",
    "After going to this link you will find two folders: \n",
    "<li>One: Data Folder</li> \n",
    "<li>two: Dataset description.</li> </em> It is better to use processed cleveland data. \n",
    "<br>\n",
    "<br>\n",
    "In the dataset description folder, you will find the description about the columns’ names referring to the 14 column of the dataset as the following: <strong>The last one attribute (number 14) is the result. </strong> Include your R source code of regression analysis, training and generating results. Here are the example of attributes and their Information (please see data set documents for more details)\n",
    "\n",
    "<ol>\n",
    "<li> #3 (age) </li>\n",
    "<li> #4 (sex) </li>\n",
    "<li> #9 (cp) </li>\n",
    "<li> #10 (trestbps)</li> \n",
    "<li> #12 (chol)</li>\n",
    "<li> #16 (fbs) </li>\n",
    "<li> #19 (restecg) </li>\n",
    "<li> #32 (thalach) </li>\n",
    "<li> #38 (exang) </li>\n",
    "<li> #40 (oldpeak)</li>\n",
    "</ol> .........\n",
    "<li>13. #51 (thal)</li>  \n",
    "<li>14. #58 (num)</li>  \n",
    "<br>\n",
    "--------------------------->result <br>For more information related to this assignment you can read Chapter 2 and Linear Regression section of Chapter 3 of \"Doing Data Science\" book."
   ],
   "metadata": {}
  },
  {
   "cell_type": "code",
   "execution_count": 6,
   "source": [
    "#read in heart disease data\n",
    "heartDiseaseData = pd.read_csv('Dataset heart-disease-dataset.csv')\n",
    "heartDiseaseData.describe()"
   ],
   "outputs": [
    {
     "output_type": "execute_result",
     "data": {
      "text/html": [
       "<div>\n",
       "<style scoped>\n",
       "    .dataframe tbody tr th:only-of-type {\n",
       "        vertical-align: middle;\n",
       "    }\n",
       "\n",
       "    .dataframe tbody tr th {\n",
       "        vertical-align: top;\n",
       "    }\n",
       "\n",
       "    .dataframe thead th {\n",
       "        text-align: right;\n",
       "    }\n",
       "</style>\n",
       "<table border=\"1\" class=\"dataframe\">\n",
       "  <thead>\n",
       "    <tr style=\"text-align: right;\">\n",
       "      <th></th>\n",
       "      <th>age</th>\n",
       "      <th>sex</th>\n",
       "      <th>cp</th>\n",
       "      <th>tresbps</th>\n",
       "      <th>chol</th>\n",
       "      <th>fbs</th>\n",
       "      <th>restecg</th>\n",
       "      <th>thalach</th>\n",
       "      <th>exang</th>\n",
       "      <th>oldpeak</th>\n",
       "      <th>slope</th>\n",
       "      <th>result</th>\n",
       "    </tr>\n",
       "  </thead>\n",
       "  <tbody>\n",
       "    <tr>\n",
       "      <th>count</th>\n",
       "      <td>303.000000</td>\n",
       "      <td>303.000000</td>\n",
       "      <td>303.000000</td>\n",
       "      <td>303.000000</td>\n",
       "      <td>303.000000</td>\n",
       "      <td>303.000000</td>\n",
       "      <td>303.000000</td>\n",
       "      <td>303.000000</td>\n",
       "      <td>303.000000</td>\n",
       "      <td>303.000000</td>\n",
       "      <td>303.000000</td>\n",
       "      <td>303.000000</td>\n",
       "    </tr>\n",
       "    <tr>\n",
       "      <th>mean</th>\n",
       "      <td>54.438944</td>\n",
       "      <td>0.679868</td>\n",
       "      <td>3.158416</td>\n",
       "      <td>131.689769</td>\n",
       "      <td>246.693069</td>\n",
       "      <td>0.148515</td>\n",
       "      <td>0.990099</td>\n",
       "      <td>149.607261</td>\n",
       "      <td>0.326733</td>\n",
       "      <td>1.039604</td>\n",
       "      <td>1.600660</td>\n",
       "      <td>0.937294</td>\n",
       "    </tr>\n",
       "    <tr>\n",
       "      <th>std</th>\n",
       "      <td>9.038662</td>\n",
       "      <td>0.467299</td>\n",
       "      <td>0.960126</td>\n",
       "      <td>17.599748</td>\n",
       "      <td>51.776918</td>\n",
       "      <td>0.356198</td>\n",
       "      <td>0.994971</td>\n",
       "      <td>22.875003</td>\n",
       "      <td>0.469794</td>\n",
       "      <td>1.161075</td>\n",
       "      <td>0.616226</td>\n",
       "      <td>1.228536</td>\n",
       "    </tr>\n",
       "    <tr>\n",
       "      <th>min</th>\n",
       "      <td>29.000000</td>\n",
       "      <td>0.000000</td>\n",
       "      <td>1.000000</td>\n",
       "      <td>94.000000</td>\n",
       "      <td>126.000000</td>\n",
       "      <td>0.000000</td>\n",
       "      <td>0.000000</td>\n",
       "      <td>71.000000</td>\n",
       "      <td>0.000000</td>\n",
       "      <td>0.000000</td>\n",
       "      <td>1.000000</td>\n",
       "      <td>0.000000</td>\n",
       "    </tr>\n",
       "    <tr>\n",
       "      <th>25%</th>\n",
       "      <td>48.000000</td>\n",
       "      <td>0.000000</td>\n",
       "      <td>3.000000</td>\n",
       "      <td>120.000000</td>\n",
       "      <td>211.000000</td>\n",
       "      <td>0.000000</td>\n",
       "      <td>0.000000</td>\n",
       "      <td>133.500000</td>\n",
       "      <td>0.000000</td>\n",
       "      <td>0.000000</td>\n",
       "      <td>1.000000</td>\n",
       "      <td>0.000000</td>\n",
       "    </tr>\n",
       "    <tr>\n",
       "      <th>50%</th>\n",
       "      <td>56.000000</td>\n",
       "      <td>1.000000</td>\n",
       "      <td>3.000000</td>\n",
       "      <td>130.000000</td>\n",
       "      <td>241.000000</td>\n",
       "      <td>0.000000</td>\n",
       "      <td>1.000000</td>\n",
       "      <td>153.000000</td>\n",
       "      <td>0.000000</td>\n",
       "      <td>0.800000</td>\n",
       "      <td>2.000000</td>\n",
       "      <td>0.000000</td>\n",
       "    </tr>\n",
       "    <tr>\n",
       "      <th>75%</th>\n",
       "      <td>61.000000</td>\n",
       "      <td>1.000000</td>\n",
       "      <td>4.000000</td>\n",
       "      <td>140.000000</td>\n",
       "      <td>275.000000</td>\n",
       "      <td>0.000000</td>\n",
       "      <td>2.000000</td>\n",
       "      <td>166.000000</td>\n",
       "      <td>1.000000</td>\n",
       "      <td>1.600000</td>\n",
       "      <td>2.000000</td>\n",
       "      <td>2.000000</td>\n",
       "    </tr>\n",
       "    <tr>\n",
       "      <th>max</th>\n",
       "      <td>77.000000</td>\n",
       "      <td>1.000000</td>\n",
       "      <td>4.000000</td>\n",
       "      <td>200.000000</td>\n",
       "      <td>564.000000</td>\n",
       "      <td>1.000000</td>\n",
       "      <td>2.000000</td>\n",
       "      <td>202.000000</td>\n",
       "      <td>1.000000</td>\n",
       "      <td>6.200000</td>\n",
       "      <td>3.000000</td>\n",
       "      <td>4.000000</td>\n",
       "    </tr>\n",
       "  </tbody>\n",
       "</table>\n",
       "</div>"
      ],
      "text/plain": [
       "              age         sex          cp     tresbps        chol         fbs  \\\n",
       "count  303.000000  303.000000  303.000000  303.000000  303.000000  303.000000   \n",
       "mean    54.438944    0.679868    3.158416  131.689769  246.693069    0.148515   \n",
       "std      9.038662    0.467299    0.960126   17.599748   51.776918    0.356198   \n",
       "min     29.000000    0.000000    1.000000   94.000000  126.000000    0.000000   \n",
       "25%     48.000000    0.000000    3.000000  120.000000  211.000000    0.000000   \n",
       "50%     56.000000    1.000000    3.000000  130.000000  241.000000    0.000000   \n",
       "75%     61.000000    1.000000    4.000000  140.000000  275.000000    0.000000   \n",
       "max     77.000000    1.000000    4.000000  200.000000  564.000000    1.000000   \n",
       "\n",
       "          restecg     thalach       exang     oldpeak       slope      result  \n",
       "count  303.000000  303.000000  303.000000  303.000000  303.000000  303.000000  \n",
       "mean     0.990099  149.607261    0.326733    1.039604    1.600660    0.937294  \n",
       "std      0.994971   22.875003    0.469794    1.161075    0.616226    1.228536  \n",
       "min      0.000000   71.000000    0.000000    0.000000    1.000000    0.000000  \n",
       "25%      0.000000  133.500000    0.000000    0.000000    1.000000    0.000000  \n",
       "50%      1.000000  153.000000    0.000000    0.800000    2.000000    0.000000  \n",
       "75%      2.000000  166.000000    1.000000    1.600000    2.000000    2.000000  \n",
       "max      2.000000  202.000000    1.000000    6.200000    3.000000    4.000000  "
      ]
     },
     "metadata": {},
     "execution_count": 6
    }
   ],
   "metadata": {}
  },
  {
   "cell_type": "markdown",
   "source": [
    "### Data Cleaning"
   ],
   "metadata": {}
  },
  {
   "cell_type": "code",
   "execution_count": 7,
   "source": [
    "print(\"Number of missing data:\",heartDiseaseData.isna().any().sum())\n",
    "print(\"Number of duplicate data:\",heartDiseaseData.duplicated().sum())"
   ],
   "outputs": [
    {
     "output_type": "stream",
     "name": "stdout",
     "text": [
      "Number of missing data: 0\n",
      "Number of duplicate data: 0\n"
     ]
    }
   ],
   "metadata": {}
  },
  {
   "cell_type": "code",
   "execution_count": 8,
   "source": [
    "heartDiseaseData.info()"
   ],
   "outputs": [
    {
     "output_type": "stream",
     "name": "stdout",
     "text": [
      "<class 'pandas.core.frame.DataFrame'>\n",
      "RangeIndex: 303 entries, 0 to 302\n",
      "Data columns (total 14 columns):\n",
      "age        303 non-null int64\n",
      "sex        303 non-null int64\n",
      "cp         303 non-null int64\n",
      "tresbps    303 non-null int64\n",
      "chol       303 non-null int64\n",
      "fbs        303 non-null int64\n",
      "restecg    303 non-null int64\n",
      "thalach    303 non-null int64\n",
      "exang      303 non-null int64\n",
      "oldpeak    303 non-null float64\n",
      "slope      303 non-null int64\n",
      "ca         303 non-null object\n",
      "thal       303 non-null object\n",
      "result     303 non-null int64\n",
      "dtypes: float64(1), int64(11), object(2)\n",
      "memory usage: 33.2+ KB\n"
     ]
    }
   ],
   "metadata": {}
  },
  {
   "cell_type": "code",
   "execution_count": 9,
   "source": [
    "print(heartDiseaseData['ca'].unique())\n",
    "print(heartDiseaseData['thal'].unique())"
   ],
   "outputs": [
    {
     "output_type": "stream",
     "name": "stdout",
     "text": [
      "['0' '3' '2' '1' '?']\n",
      "['6' '3' '7' '?']\n"
     ]
    }
   ],
   "metadata": {}
  },
  {
   "cell_type": "code",
   "execution_count": 10,
   "source": [
    "#replacing all the '?' to 0\n",
    "heartDiseaseData = heartDiseaseData.replace('?',0)\n",
    "#change object type to int\n",
    "heartDiseaseData['thal'] = heartDiseaseData['thal'].astype(int)\n",
    "heartDiseaseData['ca'] = heartDiseaseData['ca'].astype(int)\n"
   ],
   "outputs": [],
   "metadata": {}
  },
  {
   "cell_type": "code",
   "execution_count": 11,
   "source": [
    "#NOT INCLUDING ROWS THAT CONTAIN '?' \n",
    "# heartDiseaseData = heartDiseaseData[(heartDiseaseData.thal == '?') == False]\n",
    "# heartDiseaseData = heartDiseaseData[(heartDiseaseData.ca == '?') == False]"
   ],
   "outputs": [],
   "metadata": {}
  },
  {
   "cell_type": "markdown",
   "source": [
    "### Heat Map"
   ],
   "metadata": {}
  },
  {
   "cell_type": "code",
   "execution_count": 12,
   "source": [
    "correlation_matrix = heartDiseaseData.corr().round(2)\n",
    "sb.set(rc ={'figure.figsize':(11.7,8.27)})\n",
    "sb.heatmap(data=correlation_matrix,annot=True)"
   ],
   "outputs": [
    {
     "output_type": "execute_result",
     "data": {
      "text/plain": [
       "<matplotlib.axes._subplots.AxesSubplot at 0x1a23dbc3c8>"
      ]
     },
     "metadata": {},
     "execution_count": 12
    },
    {
     "output_type": "display_data",
     "data": {
      "image/png": "[encoded data removed]",
      "text/plain": [
       "<Figure size 842.4x595.44 with 2 Axes>"
      ]
     },
     "metadata": {}
    }
   ],
   "metadata": {}
  },
  {
   "cell_type": "markdown",
   "source": [
    "## Linear Regression"
   ],
   "metadata": {}
  },
  {
   "cell_type": "markdown",
   "source": [
    "### Split Data from X and Y"
   ],
   "metadata": {}
  },
  {
   "cell_type": "code",
   "execution_count": 13,
   "source": [
    "Y = heartDiseaseData['result']\n",
    "Y = np.array(Y).reshape(-1,1)\n",
    "\n",
    "#basesd on heatmap, ca has the highest correlation of 0.52\n",
    "#so we use this as the variable we want to compare with result\n",
    "X = heartDiseaseData['ca'] \n",
    "X = np.array(X).reshape(-1,1)\n",
    "\n",
    "#Import library\n",
    "from sklearn.model_selection import train_test_split\n",
    "#perform 80 (training set)/20 (testing) split\n",
    "X_train, X_test, Y_train,Y_test = train_test_split(X,Y, test_size=0.2,random_state=5)"
   ],
   "outputs": [],
   "metadata": {}
  },
  {
   "cell_type": "markdown",
   "source": [
    "### Data Dimension\n",
    "doing this to confirm that its actually split between 80% and 20%"
   ],
   "metadata": {}
  },
  {
   "cell_type": "code",
   "execution_count": 14,
   "source": [
    "X_train.shape, Y_train.shape"
   ],
   "outputs": [
    {
     "output_type": "execute_result",
     "data": {
      "text/plain": [
       "((242, 1), (242, 1))"
      ]
     },
     "metadata": {},
     "execution_count": 14
    }
   ],
   "metadata": {}
  },
  {
   "cell_type": "code",
   "execution_count": 15,
   "source": [
    "X_test.shape, Y_test.shape"
   ],
   "outputs": [
    {
     "output_type": "execute_result",
     "data": {
      "text/plain": [
       "((61, 1), (61, 1))"
      ]
     },
     "metadata": {},
     "execution_count": 15
    }
   ],
   "metadata": {}
  },
  {
   "cell_type": "markdown",
   "source": [
    "### Define the regression model"
   ],
   "metadata": {}
  },
  {
   "cell_type": "code",
   "execution_count": 16,
   "source": [
    "model = linear_model.LinearRegression()\n",
    "# defining the input for the model building\n",
    "model.fit(X_train,Y_train)\n",
    "#Apply trained model to make prediction (on test set)\n",
    "Y_pred= model.predict(X_test)\n",
    "\n",
    "#Print Model Performance\n",
    "print(\"Model Performance\")\n",
    "print(\"-------------------------------------\")\n",
    "print(\"Coeficients:\",model.coef_)\n",
    "print('Intercept:',model.intercept_)\n",
    "mse = mean_squared_error(Y_test,Y_pred)\n",
    "r = round(model.score(X_test,Y_test),2)\n",
    "print(\"MSE is {}\".format(mse))\n",
    "print(\"R-Squared score is {}\".format(r))\n",
    "\n",
    "print('\\nbased on R^2, linear regression seems to be bad for prediction')"
   ],
   "outputs": [
    {
     "output_type": "stream",
     "name": "stdout",
     "text": [
      "Model Performance\n",
      "-------------------------------------\n",
      "Coeficients: [[0.68378674]]\n",
      "Intercept: [0.54268293]\n",
      "MSE is 0.8865631972584199\n",
      "R-Squared score is 0.28\n",
      "\n",
      "based on R^2, linear regression seems to be bad for prediction\n"
     ]
    }
   ],
   "metadata": {}
  },
  {
   "cell_type": "markdown",
   "source": [
    "### Make Scatter plot"
   ],
   "metadata": {}
  },
  {
   "cell_type": "code",
   "execution_count": 17,
   "source": [
    "#sb.scatterplot(y_test,Y_pred, marker = \"+\",alpha =0.5)\n",
    "prediction_space = np.linspace(min(X),max(X)).reshape(-1,1)\n",
    "plt.scatter(X,Y)\n",
    "plt.plot(prediction_space, model.predict(prediction_space),color='red',linewidth = 3)\n",
    "plt.title(\"CA vs Result\")\n",
    "plt.ylabel('Result')\n",
    "plt.xlabel('ca')\n",
    "plt.show()"
   ],
   "outputs": [
    {
     "output_type": "display_data",
     "data": {
      "image/png": "[encoded data removed]",
      "text/plain": [
       "<Figure size 842.4x595.44 with 1 Axes>"
      ]
     },
     "metadata": {}
    }
   ],
   "metadata": {}
  },
  {
   "cell_type": "markdown",
   "source": [
    "As you can see from the scatterplot, linear regression is not suitable"
   ],
   "metadata": {}
  },
  {
   "cell_type": "markdown",
   "source": [
    "<hr>"
   ],
   "metadata": {}
  },
  {
   "cell_type": "markdown",
   "source": [
    "## Multiple Regression"
   ],
   "metadata": {}
  },
  {
   "cell_type": "code",
   "execution_count": 18,
   "source": [
    "Y = heartDiseaseData['result']\n",
    "X = heartDiseaseData.drop('result',axis=1) #drop last column\n",
    "#axis = 1 (side by side) axis = 0 (stacked)\n",
    "X_train_1, X_test_1, Y_train_1,Y_test_1 = train_test_split(X,Y, test_size=0.2,random_state=5)\n",
    "lr = linear_model.LinearRegression()\n",
    "lr.fit(X_train_1,Y_train_1)\n",
    "Y_pred_1 = lr.predict(X_test_1)\n",
    "\n",
    "mse = mean_squared_error(Y_test_1,Y_pred_1)\n",
    "r = round(lr.score(X_test_1,Y_test_1),2)\n",
    "\n",
    "print(\"The Model Performance\")\n",
    "print(\"-------------------------------------\")\n",
    "print(\"MSE is {}\".format(mse))\n",
    "print(\"R-Squared score is {}\".format(r))\n",
    "print(\"\\n\")\n",
    "\n",
    "# Summarize feature importance score > 0.05\n",
    "print(\"Important Features\")\n",
    "for i,v in enumerate(lr.coef_):\n",
    "    if(v > 0.05):\n",
    "        print(\"Feature: %0d, Score: %.5f\" %(i,v))\n"
   ],
   "outputs": [
    {
     "output_type": "stream",
     "name": "stdout",
     "text": [
      "The Model Performance\n",
      "-------------------------------------\n",
      "MSE is 0.5094268885785452\n",
      "R-Squared score is 0.59\n",
      "\n",
      "\n",
      "Important Features\n",
      "Feature: 1, Score: 0.19796\n",
      "Feature: 2, Score: 0.22164\n",
      "Feature: 5, Score: 0.06498\n",
      "Feature: 6, Score: 0.09898\n",
      "Feature: 8, Score: 0.21159\n",
      "Feature: 9, Score: 0.18044\n",
      "Feature: 10, Score: 0.18825\n",
      "Feature: 11, Score: 0.45733\n",
      "Feature: 12, Score: 0.12380\n"
     ]
    }
   ],
   "metadata": {}
  },
  {
   "cell_type": "code",
   "execution_count": 19,
   "source": [
    "heartDiseaseData.columns"
   ],
   "outputs": [
    {
     "output_type": "execute_result",
     "data": {
      "text/plain": [
       "Index(['age', 'sex', 'cp', 'tresbps', 'chol', 'fbs', 'restecg', 'thalach',\n",
       "       'exang', 'oldpeak', 'slope', 'ca', 'thal', 'result'],\n",
       "      dtype='object')"
      ]
     },
     "metadata": {},
     "execution_count": 19
    }
   ],
   "metadata": {}
  },
  {
   "cell_type": "markdown",
   "source": [
    "Based on the Coefficients, we can see that the `slope`, followed by `thalach,exang` and `age` has the most effect on the results. <br>\n",
    "The Insignificant variables are `sex` and `fbs`"
   ],
   "metadata": {}
  },
  {
   "cell_type": "markdown",
   "source": [
    "### Drop insignificant Variables"
   ],
   "metadata": {}
  },
  {
   "cell_type": "code",
   "execution_count": 20,
   "source": [
    "X = heartDiseaseData.drop(['sex','fbs'],axis=1)\n",
    "\n",
    "X_train_1, X_test_1, Y_train_1,Y_test_1 = train_test_split(X,Y, test_size=0.2,random_state=5)\n",
    "lr = linear_model.LinearRegression()\n",
    "lr.fit(X_train_1,Y_train_1)\n",
    "Y_pred_1 = lr.predict(X_test_1)\n",
    "\n",
    "mse = mean_squared_error(Y_test_1,Y_pred_1)\n",
    "r = round(lr.score(X_test_1,Y_test_1),2)\n",
    "\n",
    "print(\"The Model Performance\")\n",
    "print(\"-------------------------------------\")\n",
    "print(\"MSE is {}\".format(mse))\n",
    "print(\"R-Squared score is {}\".format(r))"
   ],
   "outputs": [
    {
     "output_type": "stream",
     "name": "stdout",
     "text": [
      "The Model Performance\n",
      "-------------------------------------\n",
      "MSE is 3.907609845985759e-30\n",
      "R-Squared score is 1.0\n"
     ]
    }
   ],
   "metadata": {}
  },
  {
   "cell_type": "code",
   "execution_count": 21,
   "source": [
    "print(\"The variables that were dropped: 'sex' and 'fbs'\")\n",
    "print('----------------------------------------------------')\n",
    "print(\"Before dropping insignificant variables:\\nMSE is 0.5737656565566979 \\nR-Squared score is 0.52\")\n",
    "print(\"\\nAfter dropping insignificant variables:\\nMSE is 7.050526275434662e-30 \\nR-Squared score is 1.0\")"
   ],
   "outputs": [
    {
     "output_type": "stream",
     "name": "stdout",
     "text": [
      "The variables that were dropped: 'sex' and 'fbs'\n",
      "----------------------------------------------------\n",
      "Before dropping insignificant variables:\n",
      "MSE is 0.5737656565566979 \n",
      "R-Squared score is 0.52\n",
      "\n",
      "After dropping insignificant variables:\n",
      "MSE is 7.050526275434662e-30 \n",
      "R-Squared score is 1.0\n"
     ]
    }
   ],
   "metadata": {}
  },
  {
   "cell_type": "markdown",
   "source": [
    "When we take out the insignificant variables, R^2 is significantly better!"
   ],
   "metadata": {}
  },
  {
   "cell_type": "markdown",
   "source": [
    "<hr>"
   ],
   "metadata": {}
  },
  {
   "cell_type": "markdown",
   "source": [
    "## 2. Nonlinear models (4 marks)\n",
    "In this part you will use the heart disease data set to analyse the data with `logistic regression analysis` ( or any other nonlinear classifier on your choice) and compare with `linear regression analysis` then answering which method is better. First use two models as the estimator (with numerical result). \n",
    "<br><br>\n",
    "Here you need to compare both methods by calculating Errors such as `Mean Square Error (MSE)` and other performance metrics `(R-squared)` to find which method can do prediction more accurately. Make sure you separate training set and testing data and there is no overfitting."
   ],
   "metadata": {}
  },
  {
   "cell_type": "markdown",
   "source": [
    "### Logistic Regression"
   ],
   "metadata": {}
  },
  {
   "cell_type": "code",
   "execution_count": 22,
   "source": [
    "Y = heartDiseaseData['result']\n",
    "X = heartDiseaseData.drop('result',axis=1) #drop last column\n",
    "\n",
    "X_train_1, X_test_1, Y_train_1,Y_test_1 = train_test_split(X,Y, test_size=0.2,random_state=5)\n",
    "\n",
    "#use logistic regression here \n",
    "lr = linear_model.LogisticRegression(max_iter=10000)\n",
    "lr.fit(X_train_1,Y_train_1)\n",
    "Y_pred_1 = lr.predict(X_test_1)\n",
    "\n",
    "mse = mean_squared_error(Y_test_1,Y_pred_1)\n",
    "r = round(lr.score(X_test_1,Y_test_1),2)\n",
    "\n",
    "print(\"The Model Performance\")\n",
    "print(\"-------------------------------------\")\n",
    "print(\"MSE is {}\".format(mse))\n",
    "print(\"R-Squared score is {}\".format(r))\n",
    "print(\"\\n\")"
   ],
   "outputs": [
    {
     "output_type": "stream",
     "name": "stdout",
     "text": [
      "The Model Performance\n",
      "-------------------------------------\n",
      "MSE is 0.7868852459016393\n",
      "R-Squared score is 0.69\n",
      "\n",
      "\n"
     ]
    },
    {
     "output_type": "stream",
     "name": "stderr",
     "text": [
      "/anaconda3/lib/python3.7/site-packages/sklearn/linear_model/logistic.py:433: FutureWarning: Default solver will be changed to 'lbfgs' in 0.22. Specify a solver to silence this warning.\n",
      "  FutureWarning)\n",
      "/anaconda3/lib/python3.7/site-packages/sklearn/linear_model/logistic.py:460: FutureWarning: Default multi_class will be changed to 'auto' in 0.22. Specify the multi_class option to silence this warning.\n",
      "  \"this warning.\", FutureWarning)\n"
     ]
    }
   ],
   "metadata": {}
  },
  {
   "cell_type": "markdown",
   "source": [
    "## Regression Model Comparisons \n",
    "\n",
    "||Linear|Multiple|Logistic|\n",
    "|--------|-----------|----------------|----------------|\n",
    "|MSE|0.89|0.51|0.79|\n",
    "|R^2|0.28|0.59|0.69|\n",
    "\n",
    "<br>*this is without removing insignigicant variables*\n",
    "<br>\n",
    "<br>\n",
    "*Linear Regression we are testing 'ca' and result since 'ca' has the highest coefficient amongst all the other variables in the heatmap\n",
    "\n",
    "Based on the cacluations, **logistic method** is better!"
   ],
   "metadata": {}
  },
  {
   "cell_type": "markdown",
   "source": [
    "<hr>"
   ],
   "metadata": {}
  },
  {
   "cell_type": "markdown",
   "source": [
    "## Exercise-6 (1 Mark)\n",
    "Download the Excel file <em>“Sample-probability-distributions-graph.xlsx”</em> of the sample distributions from the lecture notes.\n",
    "<br><br> By visual observation and running the regression analysis (for example by Excel regression analysis) find out which `probability distribution` is `linear`. You can examine <strong>fitting the distribution data</strong> by using `linear regression model` or by `explaining the equation` of each distribution."
   ],
   "metadata": {}
  },
  {
   "cell_type": "markdown",
   "source": [
    "<img src=\"https://cdn.discordapp.com/attachments/932827140691464223/944041910803251211/ex6.png\" width=70% alt=\"Excel Graph\">\n"
   ],
   "metadata": {}
  },
  {
   "cell_type": "markdown",
   "source": [
    "After plotting all the data we can see that normal distribution is closest to being 'linear'. This is because it's R^2 value is closest to 1.\n",
    "\n",
    "`Got this question wrong`"
   ],
   "metadata": {}
  }
 ],
 "metadata": {
  "orig_nbformat": 4,
  "language_info": {
   "name": "python",
   "version": "3.7.3",
   "mimetype": "text/x-python",
   "codemirror_mode": {
    "name": "ipython",
    "version": 3
   },
   "pygments_lexer": "ipython3",
   "nbconvert_exporter": "python",
   "file_extension": ".py"
  },
  "kernelspec": {
   "name": "python3",
   "display_name": "Python 3.7.3 64-bit ('base': conda)"
  },
  "interpreter": {
   "hash": "398dc28c06ad810e77de546bbdfa897a6ee0b83e59a5207339dda01a7843e01d"
  }
 },
 "nbformat": 4,
 "nbformat_minor": 2
}