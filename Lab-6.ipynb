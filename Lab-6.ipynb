{
 "cells": [
  {
   "cell_type": "markdown",
   "source": [
    "# Lab 6 - Perceptron"
   ],
   "metadata": {}
  },
  {
   "cell_type": "markdown",
   "source": [
    "Use `Neural network` from `Python sklearn library` for implantation of **`AND`** and **`OR`** functions. <br><br>Submit your Jupyter notebook source code with the results."
   ],
   "metadata": {}
  },
  {
   "cell_type": "markdown",
   "source": [
    "## AND GATE\n",
    "\n",
    "<br>\n",
    "\n",
    "|X1|X2|Output|\n",
    "|--------|-----------|--------------|\n",
    "|0|0|0|\n",
    "|0|1|0|\n",
    "|1|0|0|\n",
    "|1|1|1|"
   ],
   "metadata": {}
  },
  {
   "cell_type": "code",
   "execution_count": 7,
   "source": [
    "#Import\n",
    "import numpy as np\n",
    "from sklearn.linear_model import Perceptron\n",
    "X= np.array([[0,0],[0,1],[1,0],[1,1]])\n",
    "y = np.array([0,0,0,1])\n",
    "clf = Perceptron(tol=1e-3, random_state=0)\n",
    "clf.fit(X,y)\n",
    "x = np.array([[1,0]])\n",
    "print(\"Predicted AND for x = [1,0]\")\n",
    "clf.predict(x)"
   ],
   "outputs": [
    {
     "output_type": "stream",
     "name": "stdout",
     "text": [
      "Predicted AND for x = [1,0]\n"
     ]
    },
    {
     "output_type": "execute_result",
     "data": {
      "text/plain": [
       "array([0])"
      ]
     },
     "metadata": {},
     "execution_count": 7
    }
   ],
   "metadata": {}
  },
  {
   "cell_type": "markdown",
   "source": [
    "## OR GATE\n",
    "\n",
    "<br>\n",
    "\n",
    "|X1|X2|Output|\n",
    "|--------|-----------|----------------|\n",
    "|0|0|0|\n",
    "|0|1|1|\n",
    "|1|0|1|\n",
    "|1|1|1|"
   ],
   "metadata": {}
  },
  {
   "cell_type": "code",
   "execution_count": 8,
   "source": [
    "X= np.array([[0,0],[0,1],[1,0],[1,1]])\n",
    "y = np.array([0,1,1,1])\n",
    "clf = Perceptron(tol=1e-3, random_state=0)\n",
    "clf.fit(X,y)\n",
    "x = np.array([[1,1]])\n",
    "print(\"Predicted AND for x = [1,1]\")\n",
    "clf.predict(x)"
   ],
   "outputs": [
    {
     "output_type": "stream",
     "name": "stdout",
     "text": [
      "Predicted AND for x = [1,1]\n"
     ]
    },
    {
     "output_type": "execute_result",
     "data": {
      "text/plain": [
       "array([1])"
      ]
     },
     "metadata": {},
     "execution_count": 8
    }
   ],
   "metadata": {}
  }
 ],
 "metadata": {
  "orig_nbformat": 4,
  "language_info": {
   "name": "python",
   "version": "3.7.3",
   "mimetype": "text/x-python",
   "codemirror_mode": {
    "name": "ipython",
    "version": 3
   },
   "pygments_lexer": "ipython3",
   "nbconvert_exporter": "python",
   "file_extension": ".py"
  },
  "kernelspec": {
   "name": "python3",
   "display_name": "Python 3.7.3 64-bit ('base': conda)"
  },
  "interpreter": {
   "hash": "398dc28c06ad810e77de546bbdfa897a6ee0b83e59a5207339dda01a7843e01d"
  }
 },
 "nbformat": 4,
 "nbformat_minor": 2
}